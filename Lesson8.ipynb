{
 "cells": [
  {
   "cell_type": "markdown",
   "metadata": {},
   "source": [
    "<h1 id=\"tocheading\">Contents</h1>\n",
    "<div id=\"toc\"></div>"
   ]
  },
  {
   "cell_type": "code",
   "execution_count": 1,
   "metadata": {},
   "outputs": [
    {
     "data": {
      "application/javascript": [
       "$.getScript('https://kmahelona.github.io/ipython_notebook_goodies/ipython_notebook_toc.js')\n"
      ],
      "text/plain": [
       "<IPython.core.display.Javascript object>"
      ]
     },
     "metadata": {},
     "output_type": "display_data"
    }
   ],
   "source": [
    "%%javascript\n",
    "$.getScript('https://kmahelona.github.io/ipython_notebook_goodies/ipython_notebook_toc.js')"
   ]
  },
  {
   "cell_type": "code",
   "execution_count": 2,
   "metadata": {},
   "outputs": [],
   "source": [
    "from IPython.display import Image"
   ]
  },
  {
   "cell_type": "markdown",
   "metadata": {},
   "source": [
    "## Set\n",
    "\n",
    "\n",
    "    unsorted collection of unique elements, enclosed in {}"
   ]
  },
  {
   "cell_type": "markdown",
   "metadata": {},
   "source": [
    "### build a set\n",
    "\n",
    "\n",
    "\n",
    "    use {}\n",
    "    convert from other types with set()\n",
    "    unlike list, set doesn't have order !!!"
   ]
  },
  {
   "cell_type": "code",
   "execution_count": 3,
   "metadata": {},
   "outputs": [
    {
     "data": {
      "text/plain": [
       "{1, 2, 3}"
      ]
     },
     "execution_count": 3,
     "metadata": {},
     "output_type": "execute_result"
    }
   ],
   "source": [
    "s = {1 , 2, 3}\n",
    "s"
   ]
  },
  {
   "cell_type": "code",
   "execution_count": 4,
   "metadata": {},
   "outputs": [
    {
     "data": {
      "text/plain": [
       "{1, 2, 3}"
      ]
     },
     "execution_count": 4,
     "metadata": {},
     "output_type": "execute_result"
    }
   ],
   "source": [
    "s = {1, 2, 2, 3}\n",
    "s"
   ]
  },
  {
   "cell_type": "code",
   "execution_count": 5,
   "metadata": {},
   "outputs": [
    {
     "data": {
      "text/plain": [
       "{1, 2, 3}"
      ]
     },
     "execution_count": 5,
     "metadata": {},
     "output_type": "execute_result"
    }
   ],
   "source": [
    "set([1,2,2,3])"
   ]
  },
  {
   "cell_type": "markdown",
   "metadata": {},
   "source": [
    "### set methods\n",
    "\n",
    "\n",
    "    items in a set are NOT ordered !!!\n",
    "    len: size of the set\n",
    "    in: test membership - most useful and more efficient than list\n",
    "    add: add an element to set\n",
    "    pop: remove an arbitary member\n",
    "    remove: remove a specific member, input must be a member\n",
    "    clear: remove all elements\n",
    "    update: Update the set with more than one element.\n",
    "    \n"
   ]
  },
  {
   "cell_type": "code",
   "execution_count": 6,
   "metadata": {},
   "outputs": [
    {
     "data": {
      "text/plain": [
       "3"
      ]
     },
     "execution_count": 6,
     "metadata": {},
     "output_type": "execute_result"
    }
   ],
   "source": [
    "len(s)"
   ]
  },
  {
   "cell_type": "code",
   "execution_count": 7,
   "metadata": {},
   "outputs": [
    {
     "data": {
      "text/plain": [
       "{1, 2, 3}"
      ]
     },
     "execution_count": 7,
     "metadata": {},
     "output_type": "execute_result"
    }
   ],
   "source": [
    "s"
   ]
  },
  {
   "cell_type": "code",
   "execution_count": 8,
   "metadata": {},
   "outputs": [
    {
     "data": {
      "text/plain": [
       "True"
      ]
     },
     "execution_count": 8,
     "metadata": {},
     "output_type": "execute_result"
    }
   ],
   "source": [
    "1 in s"
   ]
  },
  {
   "cell_type": "code",
   "execution_count": 9,
   "metadata": {},
   "outputs": [
    {
     "data": {
      "text/plain": [
       "False"
      ]
     },
     "execution_count": 9,
     "metadata": {},
     "output_type": "execute_result"
    }
   ],
   "source": [
    "10 in s"
   ]
  },
  {
   "cell_type": "code",
   "execution_count": 10,
   "metadata": {},
   "outputs": [
    {
     "name": "stdout",
     "output_type": "stream",
     "text": [
      "Help on built-in function add:\n",
      "\n",
      "add(...) method of builtins.set instance\n",
      "    Add an element to a set.\n",
      "    \n",
      "    This has no effect if the element is already present.\n",
      "\n"
     ]
    }
   ],
   "source": [
    "help(s.add)"
   ]
  },
  {
   "cell_type": "code",
   "execution_count": 11,
   "metadata": {},
   "outputs": [
    {
     "name": "stdout",
     "output_type": "stream",
     "text": [
      "Help on built-in function update:\n",
      "\n",
      "update(...) method of builtins.set instance\n",
      "    Update a set with the union of itself and others.\n",
      "\n"
     ]
    }
   ],
   "source": [
    "help(s.update)"
   ]
  },
  {
   "cell_type": "code",
   "execution_count": 12,
   "metadata": {},
   "outputs": [
    {
     "data": {
      "text/plain": [
       "{1, 2, 3, 'a'}"
      ]
     },
     "execution_count": 12,
     "metadata": {},
     "output_type": "execute_result"
    }
   ],
   "source": [
    "s.add('a')  # set can contain any different types of items.\n",
    "s"
   ]
  },
  {
   "cell_type": "code",
   "execution_count": 13,
   "metadata": {},
   "outputs": [
    {
     "ename": "TypeError",
     "evalue": "'set' object is not subscriptable",
     "output_type": "error",
     "traceback": [
      "\u001b[0;31m---------------------------------------------------------------------------\u001b[0m",
      "\u001b[0;31mTypeError\u001b[0m                                 Traceback (most recent call last)",
      "\u001b[0;32m<ipython-input-13-354d6d7fa2e4>\u001b[0m in \u001b[0;36m<module>\u001b[0;34m\u001b[0m\n\u001b[0;32m----> 1\u001b[0;31m \u001b[0ms\u001b[0m\u001b[0;34m[\u001b[0m\u001b[0;36m3\u001b[0m\u001b[0;34m]\u001b[0m\u001b[0;34m\u001b[0m\u001b[0;34m\u001b[0m\u001b[0m\n\u001b[0m",
      "\u001b[0;31mTypeError\u001b[0m: 'set' object is not subscriptable"
     ]
    }
   ],
   "source": [
    "s[3]"
   ]
  },
  {
   "cell_type": "code",
   "execution_count": null,
   "metadata": {},
   "outputs": [],
   "source": [
    "s.pop()  # give you an random element !!"
   ]
  },
  {
   "cell_type": "code",
   "execution_count": null,
   "metadata": {},
   "outputs": [],
   "source": [
    "s.pop() "
   ]
  },
  {
   "cell_type": "code",
   "execution_count": null,
   "metadata": {},
   "outputs": [],
   "source": [
    "s"
   ]
  },
  {
   "cell_type": "code",
   "execution_count": null,
   "metadata": {},
   "outputs": [],
   "source": [
    "s= {2,3,'a'}"
   ]
  },
  {
   "cell_type": "code",
   "execution_count": null,
   "metadata": {},
   "outputs": [],
   "source": [
    "s.remove(3)\n",
    "s"
   ]
  },
  {
   "cell_type": "code",
   "execution_count": null,
   "metadata": {},
   "outputs": [],
   "source": [
    "# union  new set with current set\n",
    "s.update({10, 20, 30})\n",
    "s"
   ]
  },
  {
   "cell_type": "code",
   "execution_count": null,
   "metadata": {},
   "outputs": [],
   "source": []
  },
  {
   "cell_type": "markdown",
   "metadata": {},
   "source": [
    "### how to iterate  a set"
   ]
  },
  {
   "cell_type": "code",
   "execution_count": null,
   "metadata": {},
   "outputs": [],
   "source": [
    "s = set({1, 2, 3})\n",
    "\n",
    "# process all items in set s, don't change s\n",
    "# don't expect an order in the items !!!\n",
    "for i in s:\n",
    "    print(i)"
   ]
  },
  {
   "cell_type": "code",
   "execution_count": null,
   "metadata": {},
   "outputs": [],
   "source": [
    "s"
   ]
  },
  {
   "cell_type": "code",
   "execution_count": null,
   "metadata": {},
   "outputs": [],
   "source": [
    "# when you don't need the items in the set after processing\n",
    "while s:\n",
    "    print(s.pop())"
   ]
  },
  {
   "cell_type": "code",
   "execution_count": null,
   "metadata": {},
   "outputs": [],
   "source": [
    "s"
   ]
  },
  {
   "cell_type": "code",
   "execution_count": null,
   "metadata": {},
   "outputs": [],
   "source": [
    "s = set({1, 2, 3})"
   ]
  },
  {
   "cell_type": "code",
   "execution_count": null,
   "metadata": {},
   "outputs": [],
   "source": [
    "s.clear()\n",
    "s"
   ]
  },
  {
   "cell_type": "markdown",
   "metadata": {},
   "source": [
    "### venn diagram\n",
    "\n",
    "\n",
    "    union  | \n",
    "    intersection  &\n",
    "    -"
   ]
  },
  {
   "cell_type": "code",
   "execution_count": null,
   "metadata": {},
   "outputs": [],
   "source": [
    "Image(\"venn.png\")"
   ]
  },
  {
   "cell_type": "code",
   "execution_count": null,
   "metadata": {},
   "outputs": [],
   "source": [
    "X={'a', 'b', 'd', 'e'}\n",
    "Y = {'b', 'c', 'e', 'f'}\n",
    "Z = {'d', 'e', 'f', 'g'}"
   ]
  },
  {
   "cell_type": "code",
   "execution_count": null,
   "metadata": {},
   "outputs": [],
   "source": [
    "X.union(Y)"
   ]
  },
  {
   "cell_type": "code",
   "execution_count": null,
   "metadata": {},
   "outputs": [],
   "source": [
    "X | Y"
   ]
  },
  {
   "cell_type": "code",
   "execution_count": null,
   "metadata": {},
   "outputs": [],
   "source": [
    "X.intersection(Y)"
   ]
  },
  {
   "cell_type": "code",
   "execution_count": null,
   "metadata": {},
   "outputs": [],
   "source": [
    "X & Y"
   ]
  },
  {
   "cell_type": "code",
   "execution_count": null,
   "metadata": {},
   "outputs": [],
   "source": [
    "X & Y & Z"
   ]
  },
  {
   "cell_type": "code",
   "execution_count": null,
   "metadata": {},
   "outputs": [],
   "source": [
    "X.intersection(Y).intersection(Z)"
   ]
  },
  {
   "cell_type": "code",
   "execution_count": null,
   "metadata": {},
   "outputs": [],
   "source": [
    "X - Y  # except   what are in X but not in Y ?"
   ]
  },
  {
   "cell_type": "code",
   "execution_count": null,
   "metadata": {},
   "outputs": [],
   "source": []
  },
  {
   "cell_type": "markdown",
   "metadata": {},
   "source": [
    "## Base 10, 2, 8, 16"
   ]
  },
  {
   "cell_type": "raw",
   "metadata": {},
   "source": [
    "base 10  ( 10 symbols to represent numbers )\n",
    "  0 1 2 3 4 5 6 7 8 9 ->\n",
    " 10 11 ...\n",
    "\n",
    "\n",
    "base 2   (0b)\n",
    "0   1  ( no 2, 3, 4,...)\n",
    "10  11 \n",
    "100 101 110 111 ...\n",
    "\n",
    "\n",
    "base 3\n",
    "0 1 2 \n",
    "10, 11, 12, ...\n",
    "\n",
    "base 8  o(oct)\n",
    "0 1 2 3 4 5 6 7 o10 \n",
    "\n",
    "base 16  (0x0) hex\n",
    "0 1 2 3 4 5 6 7 8 9 A B C D E F \n",
    "0x10 "
   ]
  },
  {
   "cell_type": "code",
   "execution_count": null,
   "metadata": {},
   "outputs": [],
   "source": [
    "10"
   ]
  },
  {
   "cell_type": "code",
   "execution_count": null,
   "metadata": {},
   "outputs": [],
   "source": [
    "0b10"
   ]
  },
  {
   "cell_type": "code",
   "execution_count": null,
   "metadata": {},
   "outputs": [],
   "source": [
    "0o10"
   ]
  },
  {
   "cell_type": "code",
   "execution_count": null,
   "metadata": {},
   "outputs": [],
   "source": [
    "0x10"
   ]
  },
  {
   "cell_type": "code",
   "execution_count": null,
   "metadata": {},
   "outputs": [],
   "source": [
    "# bin : base 2\n",
    "# oct: base 8\n",
    "# hex: base 16\n",
    "for i in range(20): # represent 0-20 in 4 different base\n",
    "    print(\"{:10} {:8} {:5} {:5}\".format(i, bin(i), oct(i), hex(i)))"
   ]
  },
  {
   "cell_type": "markdown",
   "metadata": {},
   "source": [
    "## ASCII Code"
   ]
  },
  {
   "cell_type": "code",
   "execution_count": 14,
   "metadata": {},
   "outputs": [
    {
     "name": "stdout",
     "output_type": "stream",
     "text": [
      "A 65\n",
      "B 66\n",
      "C 67\n",
      "D 68\n",
      "E 69\n",
      "F 70\n",
      "G 71\n",
      "H 72\n",
      "I 73\n",
      "J 74\n",
      "K 75\n",
      "L 76\n",
      "M 77\n",
      "N 78\n",
      "O 79\n",
      "P 80\n",
      "Q 81\n",
      "R 82\n",
      "S 83\n",
      "T 84\n",
      "U 85\n",
      "V 86\n",
      "W 87\n",
      "X 88\n",
      "Y 89\n",
      "Z 90\n",
      "  32\n",
      "a 97\n",
      "b 98\n",
      "c 99\n",
      "d 100\n",
      "e 101\n",
      "f 102\n",
      "g 103\n",
      "h 104\n",
      "i 105\n",
      "j 106\n",
      "k 107\n",
      "l 108\n",
      "m 109\n",
      "n 110\n",
      "o 111\n",
      "p 112\n",
      "q 113\n",
      "r 114\n",
      "s 115\n",
      "t 116\n",
      "u 117\n",
      "v 118\n",
      "w 119\n",
      "x 120\n",
      "y 121\n",
      "z 122\n"
     ]
    }
   ],
   "source": [
    "# ASCII American Standard Code for Information Interchange, \n",
    "# is a character encoding standard for electronic communication. \n",
    "# ASCII codes represent text in computers, telecommunications equipment, and other devices\n",
    "# convert integer to ASCI char\n",
    "\n",
    "for c in \"ABCDEFGHIJKLMNOPQRSTUVWXYZ abcdefghijklmnopqrstuvwxyz\":\n",
    "    print(c, ord(c))"
   ]
  },
  {
   "cell_type": "code",
   "execution_count": 15,
   "metadata": {},
   "outputs": [
    {
     "data": {
      "text/plain": [
       "65"
      ]
     },
     "execution_count": 15,
     "metadata": {},
     "output_type": "execute_result"
    }
   ],
   "source": [
    "ord('A')"
   ]
  },
  {
   "cell_type": "code",
   "execution_count": 16,
   "metadata": {},
   "outputs": [
    {
     "name": "stdout",
     "output_type": "stream",
     "text": [
      "20 \u0014\n",
      "21 \u0015\n",
      "22 \u0016\n",
      "23 \u0017\n",
      "24 \u0018\n",
      "25 \u0019\n",
      "26 \u001a\n",
      "27 \u001b\n",
      "28 \u001c",
      "\n",
      "29 \u001d",
      "\n",
      "30 \u001e",
      "\n",
      "31 \u001f\n",
      "32  \n",
      "33 !\n",
      "34 \"\n",
      "35 #\n",
      "36 $\n",
      "37 %\n",
      "38 &\n",
      "39 '\n",
      "40 (\n",
      "41 )\n",
      "42 *\n",
      "43 +\n",
      "44 ,\n",
      "45 -\n",
      "46 .\n",
      "47 /\n",
      "48 0\n",
      "49 1\n",
      "50 2\n",
      "51 3\n",
      "52 4\n",
      "53 5\n",
      "54 6\n",
      "55 7\n",
      "56 8\n",
      "57 9\n",
      "58 :\n",
      "59 ;\n",
      "60 <\n",
      "61 =\n",
      "62 >\n",
      "63 ?\n",
      "64 @\n",
      "65 A\n",
      "66 B\n",
      "67 C\n",
      "68 D\n",
      "69 E\n",
      "70 F\n",
      "71 G\n",
      "72 H\n",
      "73 I\n",
      "74 J\n",
      "75 K\n",
      "76 L\n",
      "77 M\n",
      "78 N\n",
      "79 O\n",
      "80 P\n",
      "81 Q\n",
      "82 R\n",
      "83 S\n",
      "84 T\n",
      "85 U\n",
      "86 V\n",
      "87 W\n",
      "88 X\n",
      "89 Y\n",
      "90 Z\n",
      "91 [\n",
      "92 \\\n",
      "93 ]\n",
      "94 ^\n",
      "95 _\n",
      "96 `\n",
      "97 a\n",
      "98 b\n",
      "99 c\n",
      "100 d\n",
      "101 e\n",
      "102 f\n",
      "103 g\n",
      "104 h\n",
      "105 i\n",
      "106 j\n",
      "107 k\n",
      "108 l\n",
      "109 m\n",
      "110 n\n",
      "111 o\n",
      "112 p\n",
      "113 q\n",
      "114 r\n",
      "115 s\n",
      "116 t\n",
      "117 u\n",
      "118 v\n",
      "119 w\n",
      "120 x\n",
      "121 y\n",
      "122 z\n",
      "123 {\n",
      "124 |\n",
      "125 }\n",
      "126 ~\n",
      "127 \n"
     ]
    }
   ],
   "source": [
    "for i in range(20, 128):\n",
    "    print(i, chr(i))"
   ]
  },
  {
   "cell_type": "code",
   "execution_count": 17,
   "metadata": {},
   "outputs": [
    {
     "data": {
      "text/plain": [
       "'A'"
      ]
     },
     "execution_count": 17,
     "metadata": {},
     "output_type": "execute_result"
    }
   ],
   "source": [
    "chr(65)"
   ]
  },
  {
   "cell_type": "markdown",
   "metadata": {},
   "source": [
    "### The content of a text file\n",
    "\n",
    "- write ABCD into a file\n",
    "- show the content of a file\n",
    "- show the storage"
   ]
  },
  {
   "cell_type": "code",
   "execution_count": 18,
   "metadata": {},
   "outputs": [],
   "source": [
    "!echo \"ABCD\" > ABCD.txt"
   ]
  },
  {
   "cell_type": "code",
   "execution_count": 19,
   "metadata": {},
   "outputs": [
    {
     "name": "stdout",
     "output_type": "stream",
     "text": [
      "ABCD\r\n"
     ]
    }
   ],
   "source": [
    "!cat ABCD.txt"
   ]
  },
  {
   "cell_type": "code",
   "execution_count": 20,
   "metadata": {},
   "outputs": [
    {
     "name": "stdout",
     "output_type": "stream",
     "text": [
      "00000000: 01000001 01000010 01000011 01000100 00001010           ABCD.\r\n"
     ]
    }
   ],
   "source": [
    "!xxd -b ABCD.txt"
   ]
  },
  {
   "cell_type": "code",
   "execution_count": 21,
   "metadata": {},
   "outputs": [
    {
     "name": "stdout",
     "output_type": "stream",
     "text": [
      "/usr/bin/xxd\r\n"
     ]
    }
   ],
   "source": [
    "!which xxd"
   ]
  },
  {
   "cell_type": "code",
   "execution_count": 22,
   "metadata": {},
   "outputs": [
    {
     "name": "stdout",
     "output_type": "stream",
     "text": [
      "00000000: 01111111 01000101 01001100 01000110 00000010 00000001  .ELF..\r\n",
      "00000006: 00000001 00000000 00000000 00000000 00000000 00000000  ......\r\n",
      "0000000c: 00000000 00000000 00000000 00000000 00000011 00000000  ......\r\n",
      "00000012: 00111110 00000000 00000001 00000000 00000000 00000000  >.....\r\n",
      "00000018: 11110000 00100111 00000000 00000000 00000000 00000000  .'....\r\n",
      "0000001e: 00000000 00000000 01000000 00000000 00000000 00000000  ..@...\r\n",
      "00000024: 00000000 00000000 00000000 00000000 11011000 01000001  .....A\r\n",
      "0000002a: 00000000 00000000 00000000 00000000 00000000 00000000  ......\r\n",
      "00000030: 00000000 00000000 00000000 00000000 01000000 00000000  ....@.\r\n",
      "00000036: 00111000 00000000 00001101 00000000 01000000 00000000  8...@.\r\n",
      "xxd: Broken pipe\r\n"
     ]
    }
   ],
   "source": [
    "!xxd -b /usr/bin/xxd | head -10"
   ]
  },
  {
   "cell_type": "markdown",
   "metadata": {},
   "source": [
    "## Math Fun"
   ]
  },
  {
   "cell_type": "code",
   "execution_count": 23,
   "metadata": {},
   "outputs": [],
   "source": [
    "def fabonacci(n):\n",
    "    a, b = 1, 1\n",
    "    for i in range(n):\n",
    "        yield a\n",
    "        a, b = b, a+b"
   ]
  },
  {
   "cell_type": "code",
   "execution_count": 24,
   "metadata": {},
   "outputs": [
    {
     "data": {
      "text/plain": [
       "[1, 1, 2, 3, 5, 8, 13, 21, 34, 55]"
      ]
     },
     "execution_count": 24,
     "metadata": {},
     "output_type": "execute_result"
    }
   ],
   "source": [
    "list(fabonacci(10))"
   ]
  },
  {
   "cell_type": "code",
   "execution_count": 25,
   "metadata": {},
   "outputs": [],
   "source": [
    "import importlib\n",
    "import turtle\n"
   ]
  },
  {
   "cell_type": "code",
   "execution_count": 26,
   "metadata": {},
   "outputs": [
    {
     "ename": "Terminator",
     "evalue": "",
     "output_type": "error",
     "traceback": [
      "\u001b[0;31m---------------------------------------------------------------------------\u001b[0m",
      "\u001b[0;31mTerminator\u001b[0m                                Traceback (most recent call last)",
      "\u001b[0;32m<ipython-input-26-e3c8fc20ab12>\u001b[0m in \u001b[0;36m<module>\u001b[0;34m\u001b[0m\n\u001b[1;32m     45\u001b[0m \u001b[0;34m\u001b[0m\u001b[0m\n\u001b[1;32m     46\u001b[0m \u001b[0;34m\u001b[0m\u001b[0m\n\u001b[0;32m---> 47\u001b[0;31m \u001b[0mdraw_fabonacci_square\u001b[0m\u001b[0;34m(\u001b[0m\u001b[0mfibo_nr\u001b[0m\u001b[0;34m,\u001b[0m \u001b[0mfactor\u001b[0m\u001b[0;34m=\u001b[0m\u001b[0;36m3\u001b[0m\u001b[0;34m)\u001b[0m\u001b[0;34m\u001b[0m\u001b[0;34m\u001b[0m\u001b[0m\n\u001b[0m\u001b[1;32m     48\u001b[0m \u001b[0mdraw_fabonacci_circle\u001b[0m\u001b[0;34m(\u001b[0m\u001b[0mfibo_nr\u001b[0m\u001b[0;34m,\u001b[0m \u001b[0mfactor\u001b[0m\u001b[0;34m=\u001b[0m\u001b[0;36m3\u001b[0m\u001b[0;34m)\u001b[0m\u001b[0;34m\u001b[0m\u001b[0;34m\u001b[0m\u001b[0m\n\u001b[1;32m     49\u001b[0m \u001b[0;34m\u001b[0m\u001b[0m\n",
      "\u001b[0;32m<ipython-input-26-e3c8fc20ab12>\u001b[0m in \u001b[0;36mdraw_fabonacci_square\u001b[0;34m(fibo_nr, factor)\u001b[0m\n\u001b[1;32m     26\u001b[0m         \u001b[0mdraw_square\u001b[0m\u001b[0;34m(\u001b[0m\u001b[0mfactor\u001b[0m\u001b[0;34m*\u001b[0m\u001b[0mfibo_nr\u001b[0m\u001b[0;34m[\u001b[0m\u001b[0mi\u001b[0m\u001b[0;34m]\u001b[0m\u001b[0;34m)\u001b[0m \u001b[0;31m#Draw square\u001b[0m\u001b[0;34m\u001b[0m\u001b[0;34m\u001b[0m\u001b[0m\n\u001b[1;32m     27\u001b[0m         \u001b[0mpenup\u001b[0m\u001b[0;34m(\u001b[0m\u001b[0;34m)\u001b[0m                        \u001b[0;31m#Move to new corner as starting point\u001b[0m\u001b[0;34m\u001b[0m\u001b[0;34m\u001b[0m\u001b[0m\n\u001b[0;32m---> 28\u001b[0;31m         \u001b[0mforward\u001b[0m\u001b[0;34m(\u001b[0m\u001b[0mfactor\u001b[0m\u001b[0;34m*\u001b[0m\u001b[0mfibo_nr\u001b[0m\u001b[0;34m[\u001b[0m\u001b[0mi\u001b[0m\u001b[0;34m]\u001b[0m\u001b[0;34m)\u001b[0m\u001b[0;34m\u001b[0m\u001b[0;34m\u001b[0m\u001b[0m\n\u001b[0m\u001b[1;32m     29\u001b[0m         \u001b[0mright\u001b[0m\u001b[0;34m(\u001b[0m\u001b[0;36m90\u001b[0m\u001b[0;34m)\u001b[0m\u001b[0;34m\u001b[0m\u001b[0;34m\u001b[0m\u001b[0m\n\u001b[1;32m     30\u001b[0m         \u001b[0mforward\u001b[0m\u001b[0;34m(\u001b[0m\u001b[0mfactor\u001b[0m\u001b[0;34m*\u001b[0m\u001b[0mfibo_nr\u001b[0m\u001b[0;34m[\u001b[0m\u001b[0mi\u001b[0m\u001b[0;34m]\u001b[0m\u001b[0;34m)\u001b[0m\u001b[0;34m\u001b[0m\u001b[0;34m\u001b[0m\u001b[0m\n",
      "\u001b[0;32m/usr/lib/python3.8/turtle.py\u001b[0m in \u001b[0;36mforward\u001b[0;34m(distance)\u001b[0m\n",
      "\u001b[0;31mTerminator\u001b[0m: "
     ]
    }
   ],
   "source": [
    "#Draw the Fibonacci Spiral using Turtle Graphics\n",
    "\n",
    "from turtle import *\n",
    "importlib.reload(turtle)\n",
    "\n",
    "def fabonacci(n):\n",
    "    a, b = 1, 1\n",
    "    for i in range(n):\n",
    "        yield a\n",
    "        a, b = b, a+b\n",
    "\n",
    "fibo_nr = list(fabonacci(11))\n",
    "\n",
    "def draw_square(side_length):  #Function for drawing a square\n",
    "    for i in range(4):\n",
    "        forward(side_length)\n",
    "        right(90)\n",
    "\n",
    "def draw_fabonacci_square(fibo_nr, factor=3):\n",
    "    nr_squares=len(fibo_nr)\n",
    "\n",
    "    penup()\n",
    "    goto(50,50)                  #Move starting point right and up\n",
    "    pendown()\n",
    "    for i in range(nr_squares):\n",
    "        draw_square(factor*fibo_nr[i]) #Draw square\n",
    "        penup()                        #Move to new corner as starting point\n",
    "        forward(factor*fibo_nr[i])\n",
    "        right(90)\n",
    "        forward(factor*fibo_nr[i])\n",
    "        pendown()\n",
    "        \n",
    "\n",
    "def draw_fabonacci_circle(fibo_nr, factor=10):\n",
    "    nr_squares=len(fibo_nr)        \n",
    "    penup()\n",
    "    goto(50,50)       #Move to starting point\n",
    "    setheading(0)   #Face the turtle to the right\n",
    "    pencolor('red')\n",
    "    pensize(3)\n",
    "    pendown()\n",
    "    #Draw quartercircles with fibonacci numbers as radius\n",
    "    for i in range(nr_squares):\n",
    "        circle(-factor*fibo_nr[i],90)  # minus sign to draw clockwise\n",
    "\n",
    "        \n",
    "draw_fabonacci_square(fibo_nr, factor=3)\n",
    "draw_fabonacci_circle(fibo_nr, factor=3)\n",
    "\n",
    "turtle.exitonclick()"
   ]
  },
  {
   "cell_type": "code",
   "execution_count": null,
   "metadata": {},
   "outputs": [],
   "source": [
    "\n"
   ]
  },
  {
   "cell_type": "code",
   "execution_count": null,
   "metadata": {},
   "outputs": [],
   "source": [
    "import importlib\n",
    "import turtle\n",
    "importlib.reload(turtle)\n",
    "\n",
    "\n",
    "import math\n",
    "import random\n",
    "wn = turtle.Screen()\n",
    "wn.bgcolor('black')\n",
    "Albert = turtle.Turtle()\n",
    "Albert.speed(0)\n",
    "Albert.color('white')\n",
    "rotate=int(360)\n",
    "def drawCircles(t,size):\n",
    "    for i in range(10):\n",
    "        t.circle(size)\n",
    "        size=size-4\n",
    "def drawSpecial(t,size,repeat):\n",
    "  for i in range (repeat):\n",
    "    drawCircles(t,size)\n",
    "    t.right(360/repeat)\n",
    "drawSpecial(Albert,100,10)\n",
    "Steve = turtle.Turtle()\n",
    "Steve.speed(0)\n",
    "Steve.color('yellow')\n",
    "rotate=int(90)\n",
    "def drawCircles(t,size):\n",
    "    for i in range(4):\n",
    "        t.circle(size)\n",
    "        size=size-10\n",
    "def drawSpecial(t,size,repeat):\n",
    "    for i in range (repeat):\n",
    "        drawCircles(t,size)\n",
    "        t.right(360/repeat)\n",
    "drawSpecial(Steve,100,10)\n",
    "Barry = turtle.Turtle()\n",
    "Barry.speed(0)\n",
    "Barry.color('blue')\n",
    "rotate=int(80)\n",
    "def drawCircles(t,size):\n",
    "    for i in range(4):\n",
    "        t.circle(size)\n",
    "        size=size-5\n",
    "def drawSpecial(t,size,repeat):\n",
    "    for i in range (repeat):\n",
    "        drawCircles(t,size)\n",
    "        t.right(360/repeat)\n",
    "drawSpecial(Barry,100,10)\n",
    "Terry = turtle.Turtle()\n",
    "Terry.speed(0)\n",
    "Terry.color('orange')\n",
    "rotate=int(90)\n",
    "def drawCircles(t,size):\n",
    "    for i in range(4):\n",
    "        t.circle(size)\n",
    "        size=size-19\n",
    "def drawSpecial(t,size,repeat):\n",
    "    for i in range (repeat):\n",
    "        drawCircles(t,size)\n",
    "        t.right(360/repeat)\n",
    "drawSpecial(Terry,100,10)\n",
    "Will = turtle.Turtle()\n",
    "Will.speed(0)\n",
    "Will.color('pink')\n",
    "rotate=int(90)\n",
    "def drawCircles(t,size):\n",
    "    for i in range(4):\n",
    "        t.circle(size)\n",
    "        size=size-20\n",
    "def drawSpecial(t,size,repeat):\n",
    "    for i in range (repeat):\n",
    "        drawCircles(t,size)\n",
    "        t.right(360/repeat)\n",
    "drawSpecial(Will,100,10)\n",
    "turtle.exitonclick()"
   ]
  },
  {
   "cell_type": "code",
   "execution_count": null,
   "metadata": {},
   "outputs": [],
   "source": [
    "\n"
   ]
  },
  {
   "cell_type": "markdown",
   "metadata": {},
   "source": [
    "## Review\n",
    "\n",
    "    \n",
    "    in\n",
    "    add\n",
    "    pop\n",
    "    & \n",
    "    |\n"
   ]
  },
  {
   "cell_type": "code",
   "execution_count": null,
   "metadata": {},
   "outputs": [],
   "source": []
  }
 ],
 "metadata": {
  "kernelspec": {
   "display_name": "Python 3",
   "language": "python",
   "name": "python3"
  },
  "language_info": {
   "codemirror_mode": {
    "name": "ipython",
    "version": 3
   },
   "file_extension": ".py",
   "mimetype": "text/x-python",
   "name": "python",
   "nbconvert_exporter": "python",
   "pygments_lexer": "ipython3",
   "version": "3.8.5"
  }
 },
 "nbformat": 4,
 "nbformat_minor": 2
}
