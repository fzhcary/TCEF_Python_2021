{
 "cells": [
  {
   "cell_type": "markdown",
   "metadata": {},
   "source": [
    "<h1 id=\"tocheading\">Table of Contents</h1>\n",
    "<div id=\"toc\"></div>"
   ]
  },
  {
   "cell_type": "code",
   "execution_count": 3,
   "metadata": {},
   "outputs": [
    {
     "data": {
      "application/javascript": [
       "$.getScript('https://kmahelona.github.io/ipython_notebook_goodies/ipython_notebook_toc.js')\n"
      ],
      "text/plain": [
       "<IPython.core.display.Javascript object>"
      ]
     },
     "metadata": {},
     "output_type": "display_data"
    }
   ],
   "source": [
    "%%javascript\n",
    "$.getScript('https://kmahelona.github.io/ipython_notebook_goodies/ipython_notebook_toc.js')"
   ]
  },
  {
   "cell_type": "code",
   "execution_count": 4,
   "metadata": {},
   "outputs": [],
   "source": [
    "from IPython.display import Image"
   ]
  },
  {
   "cell_type": "markdown",
   "metadata": {},
   "source": [
    "## Tips\n",
    "### Math functions\n",
    "- abs. int, math.floor, math.ceil\n",
    "\n",
    "### swap values\n",
    "\n",
    "### base 2, 8, 10, 16\n",
    "\n",
    "### bit operation ( intermediate, optional )\n",
    "- |, &, XOR"
   ]
  },
  {
   "cell_type": "code",
   "execution_count": 2,
   "metadata": {},
   "outputs": [
    {
     "data": {
      "text/plain": [
       "2"
      ]
     },
     "execution_count": 2,
     "metadata": {},
     "output_type": "execute_result"
    }
   ],
   "source": [
    "abs(2)"
   ]
  },
  {
   "cell_type": "code",
   "execution_count": 3,
   "metadata": {},
   "outputs": [
    {
     "data": {
      "text/plain": [
       "1"
      ]
     },
     "execution_count": 3,
     "metadata": {},
     "output_type": "execute_result"
    }
   ],
   "source": [
    "abs(-1)"
   ]
  },
  {
   "cell_type": "code",
   "execution_count": 4,
   "metadata": {},
   "outputs": [
    {
     "data": {
      "text/plain": [
       "0"
      ]
     },
     "execution_count": 4,
     "metadata": {},
     "output_type": "execute_result"
    }
   ],
   "source": [
    "abs(0)"
   ]
  },
  {
   "cell_type": "code",
   "execution_count": 5,
   "metadata": {},
   "outputs": [
    {
     "data": {
      "text/plain": [
       "2"
      ]
     },
     "execution_count": 5,
     "metadata": {},
     "output_type": "execute_result"
    }
   ],
   "source": [
    "a =  2.6\n",
    "int(a)"
   ]
  },
  {
   "cell_type": "code",
   "execution_count": 7,
   "metadata": {},
   "outputs": [
    {
     "data": {
      "text/plain": [
       "2"
      ]
     },
     "execution_count": 7,
     "metadata": {},
     "output_type": "execute_result"
    }
   ],
   "source": [
    "import math\n",
    "math.floor(a)"
   ]
  },
  {
   "cell_type": "code",
   "execution_count": 8,
   "metadata": {},
   "outputs": [
    {
     "data": {
      "text/plain": [
       "3"
      ]
     },
     "execution_count": 8,
     "metadata": {},
     "output_type": "execute_result"
    }
   ],
   "source": [
    "math.ceil(a)"
   ]
  },
  {
   "cell_type": "code",
   "execution_count": 13,
   "metadata": {},
   "outputs": [],
   "source": [
    "# default is base 10.  \n",
    "# base 10 has 10 digital symbols: 0,1,2,3,4,5,6,7,8,9"
   ]
  },
  {
   "cell_type": "code",
   "execution_count": 9,
   "metadata": {},
   "outputs": [
    {
     "data": {
      "text/plain": [
       "10"
      ]
     },
     "execution_count": 9,
     "metadata": {},
     "output_type": "execute_result"
    }
   ],
   "source": [
    "10"
   ]
  },
  {
   "cell_type": "code",
   "execution_count": null,
   "metadata": {},
   "outputs": [],
   "source": [
    "# base 2 : \n",
    "# base 2 has only two symbols 0 and 1.\n",
    "# base 2 representation : 0bxxxxxx   \n",
    "# b = binary\n",
    "# 0, 1, 0b10, 0b11, 0b100, 0b101, 0b110, 0b111"
   ]
  },
  {
   "cell_type": "code",
   "execution_count": 11,
   "metadata": {},
   "outputs": [
    {
     "data": {
      "text/plain": [
       "'0b11'"
      ]
     },
     "execution_count": 11,
     "metadata": {},
     "output_type": "execute_result"
    }
   ],
   "source": [
    "bin(3)  # from base 10 to base 2"
   ]
  },
  {
   "cell_type": "code",
   "execution_count": 24,
   "metadata": {},
   "outputs": [
    {
     "data": {
      "text/plain": [
       "3"
      ]
     },
     "execution_count": 24,
     "metadata": {},
     "output_type": "execute_result"
    }
   ],
   "source": [
    "0b11  # from base 2 to base 10 , no need converstion"
   ]
  },
  {
   "cell_type": "code",
   "execution_count": 12,
   "metadata": {},
   "outputs": [
    {
     "data": {
      "text/plain": [
       "9"
      ]
     },
     "execution_count": 12,
     "metadata": {},
     "output_type": "execute_result"
    }
   ],
   "source": [
    "# base 8: 0, 1, 2, 3, 4, 5, 6, 7, 0o10, 0o11, 0o12, ...\n",
    "# base 8 representation: 0oxxxxxxx   \n",
    "# o = oct\n",
    "0o11"
   ]
  },
  {
   "cell_type": "code",
   "execution_count": 13,
   "metadata": {},
   "outputs": [
    {
     "data": {
      "text/plain": [
       "'0o11'"
      ]
     },
     "execution_count": 13,
     "metadata": {},
     "output_type": "execute_result"
    }
   ],
   "source": [
    "# convert from base 10 to base 8\n",
    "oct(9)"
   ]
  },
  {
   "cell_type": "code",
   "execution_count": 22,
   "metadata": {},
   "outputs": [],
   "source": [
    "# base 16: 0x0, 0x1, ......0x9, 0x0a, 0x0b, 0x0c, 0x0b, 0x0d, 0x0e, 0x0f, 0x10, ...\n",
    "# hexidecimal"
   ]
  },
  {
   "cell_type": "code",
   "execution_count": 15,
   "metadata": {},
   "outputs": [
    {
     "data": {
      "text/plain": [
       "'0xc'"
      ]
     },
     "execution_count": 15,
     "metadata": {},
     "output_type": "execute_result"
    }
   ],
   "source": [
    "hex(12)  # convert base 10 to base 16\n",
    "# 12 animals, mouse, ox, ....  no matter what base."
   ]
  },
  {
   "cell_type": "code",
   "execution_count": 16,
   "metadata": {},
   "outputs": [
    {
     "data": {
      "text/plain": [
       "16"
      ]
     },
     "execution_count": 16,
     "metadata": {},
     "output_type": "execute_result"
    }
   ],
   "source": [
    "16  # 1 * 10 + 6"
   ]
  },
  {
   "cell_type": "code",
   "execution_count": 19,
   "metadata": {},
   "outputs": [
    {
     "data": {
      "text/plain": [
       "16"
      ]
     },
     "execution_count": 19,
     "metadata": {},
     "output_type": "execute_result"
    }
   ],
   "source": [
    "0x10   # 1 * 16 + 0"
   ]
  },
  {
   "cell_type": "code",
   "execution_count": null,
   "metadata": {},
   "outputs": [],
   "source": [
    "# bit operation"
   ]
  },
  {
   "cell_type": "code",
   "execution_count": 6,
   "metadata": {},
   "outputs": [
    {
     "data": {
      "text/plain": [
       "3"
      ]
     },
     "execution_count": 6,
     "metadata": {},
     "output_type": "execute_result"
    }
   ],
   "source": [
    "\n",
    "# ^ : xor operator\n",
    "1 ^ 2  # 01 XOR 10"
   ]
  },
  {
   "cell_type": "code",
   "execution_count": 28,
   "metadata": {},
   "outputs": [
    {
     "data": {
      "text/plain": [
       "3"
      ]
     },
     "execution_count": 28,
     "metadata": {},
     "output_type": "execute_result"
    }
   ],
   "source": [
    "1 | 2    "
   ]
  },
  {
   "cell_type": "code",
   "execution_count": null,
   "metadata": {},
   "outputs": [],
   "source": [
    "# bit operation first convert to base 2\n",
    "#       1 0\n",
    "#  1 -> 0 1\n",
    "#  2 -> 1 0\n",
    "#  \n",
    "# bit 0, 1 | 0 = 1\n",
    "# bit 1, 0 | 1 = 1\n",
    "# result: 1 1 \n",
    "# convert back to base 10 : 3\n"
   ]
  },
  {
   "cell_type": "code",
   "execution_count": 29,
   "metadata": {},
   "outputs": [
    {
     "data": {
      "text/plain": [
       "0"
      ]
     },
     "execution_count": 29,
     "metadata": {},
     "output_type": "execute_result"
    }
   ],
   "source": [
    "1 & 2  # bit AND. do AND for each bit"
   ]
  },
  {
   "cell_type": "code",
   "execution_count": 31,
   "metadata": {},
   "outputs": [
    {
     "data": {
      "text/plain": [
       "3"
      ]
     },
     "execution_count": 31,
     "metadata": {},
     "output_type": "execute_result"
    }
   ],
   "source": [
    "1 ^ 2  # bit XOR. check if the each bit is different, if different return 1, else 0\n",
    "# 01\n",
    "# 10\n",
    "# 11"
   ]
  },
  {
   "cell_type": "code",
   "execution_count": 34,
   "metadata": {},
   "outputs": [
    {
     "data": {
      "text/plain": [
       "0"
      ]
     },
     "execution_count": 34,
     "metadata": {},
     "output_type": "execute_result"
    }
   ],
   "source": [
    "3 ^ 3  # any number XOR itself is 0"
   ]
  },
  {
   "cell_type": "code",
   "execution_count": 20,
   "metadata": {},
   "outputs": [],
   "source": [
    "#  initialze multiplevalues \n",
    "a = 1\n",
    "b = 2\n",
    "\n"
   ]
  },
  {
   "cell_type": "code",
   "execution_count": 21,
   "metadata": {},
   "outputs": [
    {
     "data": {
      "text/plain": [
       "1"
      ]
     },
     "execution_count": 21,
     "metadata": {},
     "output_type": "execute_result"
    }
   ],
   "source": [
    "a"
   ]
  },
  {
   "cell_type": "code",
   "execution_count": 22,
   "metadata": {},
   "outputs": [
    {
     "data": {
      "text/plain": [
       "2"
      ]
     },
     "execution_count": 22,
     "metadata": {},
     "output_type": "execute_result"
    }
   ],
   "source": [
    "b"
   ]
  },
  {
   "cell_type": "code",
   "execution_count": 28,
   "metadata": {},
   "outputs": [],
   "source": [
    "a, b = 3 , 4"
   ]
  },
  {
   "cell_type": "code",
   "execution_count": 26,
   "metadata": {},
   "outputs": [
    {
     "data": {
      "text/plain": [
       "3"
      ]
     },
     "execution_count": 26,
     "metadata": {},
     "output_type": "execute_result"
    }
   ],
   "source": [
    "a "
   ]
  },
  {
   "cell_type": "code",
   "execution_count": 27,
   "metadata": {},
   "outputs": [
    {
     "data": {
      "text/plain": [
       "4"
      ]
     },
     "execution_count": 27,
     "metadata": {},
     "output_type": "execute_result"
    }
   ],
   "source": [
    "b"
   ]
  },
  {
   "cell_type": "code",
   "execution_count": 29,
   "metadata": {},
   "outputs": [
    {
     "name": "stdout",
     "output_type": "stream",
     "text": [
      "4 3\n"
     ]
    }
   ],
   "source": [
    "# swap values\n",
    "a, b = b, a\n",
    "print(a,b)"
   ]
  },
  {
   "cell_type": "code",
   "execution_count": 16,
   "metadata": {},
   "outputs": [],
   "source": [
    "# Question: Why do we need loops?"
   ]
  },
  {
   "cell_type": "code",
   "execution_count": 4,
   "metadata": {},
   "outputs": [
    {
     "data": {
      "text/plain": [
       "55"
      ]
     },
     "execution_count": 4,
     "metadata": {},
     "output_type": "execute_result"
    }
   ],
   "source": [
    "# 1+2+...10\n",
    "1+2+3+4+5+6+7+8+9+10"
   ]
  },
  {
   "cell_type": "code",
   "execution_count": null,
   "metadata": {},
   "outputs": [],
   "source": []
  },
  {
   "cell_type": "markdown",
   "metadata": {},
   "source": [
    "## For loop\n",
    "\n",
    "    for ... in <a sequence>:\n",
    "        <loop body>\n",
    "    \n",
    "    Note:\n",
    "    - loop body is indented.\n",
    "    - a sequence is made up of a range, a list, or anything is iterable\n",
    "    - loop body is made up of one or more statements\n",
    "    - we know exactly how many times the loop body will be executed."
   ]
  },
  {
   "cell_type": "code",
   "execution_count": null,
   "metadata": {},
   "outputs": [],
   "source": []
  },
  {
   "cell_type": "markdown",
   "metadata": {},
   "source": [
    "### range \n",
    "\n",
    "    range(begin, end, step)  \n",
    "    \n",
    "    # a sequence starts from begin till end, but end is excluded !!!, each time increase step.\n",
    "    # start default to 0\n",
    "    # step default to 1\n"
   ]
  },
  {
   "cell_type": "code",
   "execution_count": 6,
   "metadata": {},
   "outputs": [
    {
     "data": {
      "text/plain": [
       "[0, 1, 2, 3, 4, 5, 6, 7, 8, 9]"
      ]
     },
     "execution_count": 6,
     "metadata": {},
     "output_type": "execute_result"
    }
   ],
   "source": [
    "list(range(10))"
   ]
  },
  {
   "cell_type": "code",
   "execution_count": 7,
   "metadata": {},
   "outputs": [
    {
     "data": {
      "text/plain": [
       "[1, 2, 3, 4]"
      ]
     },
     "execution_count": 7,
     "metadata": {},
     "output_type": "execute_result"
    }
   ],
   "source": [
    "list(range(1, 5, 1)) "
   ]
  },
  {
   "cell_type": "code",
   "execution_count": 8,
   "metadata": {},
   "outputs": [
    {
     "data": {
      "text/plain": [
       "[1, 2, 3, 4]"
      ]
     },
     "execution_count": 8,
     "metadata": {},
     "output_type": "execute_result"
    }
   ],
   "source": [
    "list(range(1, 5))  # step default =1"
   ]
  },
  {
   "cell_type": "code",
   "execution_count": 10,
   "metadata": {},
   "outputs": [
    {
     "data": {
      "text/plain": [
       "[0, 1, 2, 3, 4]"
      ]
     },
     "execution_count": 10,
     "metadata": {},
     "output_type": "execute_result"
    }
   ],
   "source": [
    "list(range(5))  "
   ]
  },
  {
   "cell_type": "code",
   "execution_count": 11,
   "metadata": {},
   "outputs": [
    {
     "data": {
      "text/plain": [
       "[0, 2, 4, 6, 8]"
      ]
     },
     "execution_count": 11,
     "metadata": {},
     "output_type": "execute_result"
    }
   ],
   "source": [
    "list(range(0, 10, 2))"
   ]
  },
  {
   "cell_type": "code",
   "execution_count": 12,
   "metadata": {},
   "outputs": [
    {
     "data": {
      "text/plain": [
       "[10, 9, 8, 7, 6, 5, 4, 3, 2, 1]"
      ]
     },
     "execution_count": 12,
     "metadata": {},
     "output_type": "execute_result"
    }
   ],
   "source": [
    "list(range(10, 0, -1))"
   ]
  },
  {
   "cell_type": "code",
   "execution_count": 14,
   "metadata": {},
   "outputs": [
    {
     "data": {
      "text/plain": [
       "[1, 3, 5, 7, 9]"
      ]
     },
     "execution_count": 14,
     "metadata": {},
     "output_type": "execute_result"
    }
   ],
   "source": [
    "# 1 3 5 7 9\n",
    "list(range(1, 10, 2))"
   ]
  },
  {
   "cell_type": "code",
   "execution_count": null,
   "metadata": {},
   "outputs": [],
   "source": []
  },
  {
   "cell_type": "code",
   "execution_count": 15,
   "metadata": {},
   "outputs": [
    {
     "data": {
      "text/plain": [
       "[1, 2, 3]"
      ]
     },
     "execution_count": 15,
     "metadata": {},
     "output_type": "execute_result"
    }
   ],
   "source": [
    "# [ , , , ] construct a list\n",
    "l = [1,2,3]\n",
    "l"
   ]
  },
  {
   "cell_type": "markdown",
   "metadata": {},
   "source": [
    "### loop execution\n",
    "\n",
    "    iterate through the sequence\n",
    "    each iteration:\n",
    "        loop variable get a new value from the sequence\n",
    "        the loop body gets executed \n",
    "        \n",
    "    loop ends ( exits ) when sequence is exhausted."
   ]
  },
  {
   "cell_type": "code",
   "execution_count": 17,
   "metadata": {},
   "outputs": [
    {
     "name": "stdout",
     "output_type": "stream",
     "text": [
      "start iteration 0\n",
      "i= 0\n",
      "done iteration 0\n",
      "start iteration 1\n",
      "i= 1\n",
      "done iteration 1\n",
      "start iteration 2\n",
      "i= 2\n",
      "done iteration 2\n",
      "start iteration 3\n",
      "i= 3\n",
      "done iteration 3\n",
      "start iteration 4\n",
      "i= 4\n",
      "done iteration 4\n",
      "start iteration 5\n",
      "i= 5\n",
      "done iteration 5\n",
      "start iteration 6\n",
      "i= 6\n",
      "done iteration 6\n",
      "start iteration 7\n",
      "i= 7\n",
      "done iteration 7\n",
      "start iteration 8\n",
      "i= 8\n",
      "done iteration 8\n",
      "start iteration 9\n",
      "i= 9\n",
      "done iteration 9\n"
     ]
    }
   ],
   "source": [
    "# here is an example\n",
    "\n",
    "for i in range(10): \n",
    "    print(\"start iteration\", i)\n",
    "    print(\"i=\", i)\n",
    "    print(\"done iteration\", i)"
   ]
  },
  {
   "cell_type": "code",
   "execution_count": 19,
   "metadata": {},
   "outputs": [
    {
     "name": "stdout",
     "output_type": "stream",
     "text": [
      "1 1\n",
      "2 3\n",
      "3 6\n",
      "4 10\n",
      "5 15\n",
      "6 21\n",
      "7 28\n",
      "8 36\n",
      "9 45\n",
      "10 55\n"
     ]
    }
   ],
   "source": [
    "total = 0\n",
    "for i in range(1, 11): \n",
    "    total = total + i  \n",
    "    print(i, total)"
   ]
  },
  {
   "cell_type": "code",
   "execution_count": 21,
   "metadata": {},
   "outputs": [
    {
     "data": {
      "text/plain": [
       "55"
      ]
     },
     "execution_count": 21,
     "metadata": {},
     "output_type": "execute_result"
    }
   ],
   "source": [
    "sum(range(1, 11))"
   ]
  },
  {
   "cell_type": "markdown",
   "metadata": {},
   "source": [
    "### abort loop with break \n",
    "\n",
    "when a condition is met, abort the loop"
   ]
  },
  {
   "cell_type": "code",
   "execution_count": 22,
   "metadata": {},
   "outputs": [
    {
     "data": {
      "text/plain": [
       "True"
      ]
     },
     "execution_count": 22,
     "metadata": {},
     "output_type": "execute_result"
    }
   ],
   "source": [
    "i = 6\n",
    "j = 2\n",
    "# check if j is a factor of i\n",
    "i % j == 0"
   ]
  },
  {
   "cell_type": "code",
   "execution_count": 23,
   "metadata": {},
   "outputs": [
    {
     "data": {
      "text/plain": [
       "False"
      ]
     },
     "execution_count": 23,
     "metadata": {},
     "output_type": "execute_result"
    }
   ],
   "source": [
    "6 % 5 == 0 "
   ]
  },
  {
   "cell_type": "code",
   "execution_count": 30,
   "metadata": {},
   "outputs": [
    {
     "name": "stdout",
     "output_type": "stream",
     "text": [
      "iternation 1\n",
      "iternation 2\n",
      "iternation 3\n",
      "iternation 4\n",
      "iternation 5\n",
      "iternation 6\n",
      "6 is a complete number\n",
      "end\n"
     ]
    }
   ],
   "source": [
    "# find one complete number between (1, 100) \n",
    "# complete: a number is equal to the sum of all its factors\n",
    "# 6 = 1, 2, 3 , not including itself.\n",
    "# 6 = 1 + 2 + 3\n",
    "\n",
    "for i in range(1, 100):\n",
    "    print(\"iternation\", i)\n",
    "    total = 0\n",
    "    for j in range(1, i):  # factor 1,2,3,.. i.  find out all i's factors.\n",
    "        if i % j == 0:  # if j is a factor of i, we add it to total\n",
    "            total += j\n",
    "    if total == i:  # this is a complete number\n",
    "        print(i, \"is a complete number\")\n",
    "        break\n",
    "        \n",
    "print(\"end\")"
   ]
  },
  {
   "cell_type": "code",
   "execution_count": 29,
   "metadata": {},
   "outputs": [
    {
     "data": {
      "text/plain": [
       "True"
      ]
     },
     "execution_count": 29,
     "metadata": {},
     "output_type": "execute_result"
    }
   ],
   "source": [
    "28 == 1 + 2 + 4 + 7 + 14"
   ]
  },
  {
   "cell_type": "markdown",
   "metadata": {},
   "source": [
    "### skip iteration with continue\n",
    "\n",
    "    skip this iteration, continue execution to next. \n",
    "    useful when you want to avoid certain iterations"
   ]
  },
  {
   "cell_type": "code",
   "execution_count": 33,
   "metadata": {},
   "outputs": [
    {
     "name": "stdout",
     "output_type": "stream",
     "text": [
      "-5 -0.2\n",
      "-4 -0.25\n",
      "-3 -0.3333333333333333\n",
      "-2 -0.5\n",
      "-1 -1.0\n",
      "1 1.0\n",
      "2 0.5\n",
      "3 0.3333333333333333\n",
      "4 0.25\n"
     ]
    }
   ],
   "source": [
    "for i in range(-5, 5): # -5, -4, -3, -2, -1, 0, 1, 2, 3, 4\n",
    "\n",
    "    if i == 0:\n",
    "        continue  # skip this iteration\n",
    "\n",
    "    print(i, 1 / i)"
   ]
  },
  {
   "cell_type": "code",
   "execution_count": 35,
   "metadata": {},
   "outputs": [
    {
     "name": "stdout",
     "output_type": "stream",
     "text": [
      "-5 -0.2\n",
      "-4 -0.25\n",
      "-3 -0.3333333333333333\n",
      "-2 -0.5\n",
      "-1 -1.0\n",
      "1 1.0\n",
      "2 0.5\n",
      "3 0.3333333333333333\n",
      "4 0.25\n"
     ]
    }
   ],
   "source": [
    "for i in range(-5, 5): # -5, -4, -3, -2, -1, 0, 1, 2, 3, 4\n",
    "\n",
    "    if i == 0:\n",
    "        pass\n",
    "    else:\n",
    "        print(i, 1 / i)"
   ]
  },
  {
   "cell_type": "markdown",
   "metadata": {},
   "source": [
    "## while loop\n",
    "\n",
    "    Use while if you don't know how many times the loop will be executed. \n",
    "    \n",
    "    while <condition is True>:\n",
    "    \n",
    "        <loop body>\n",
    "        \n",
    "    Note:\n",
    "        in the loop body, the condition gets updated.\n",
    "        at some point, the condition becomes False, that's when the loop exits/ends\n",
    "        when the condition is not met (True), the loop exit,and the body is NOT executed.\n"
   ]
  },
  {
   "cell_type": "code",
   "execution_count": 36,
   "metadata": {},
   "outputs": [
    {
     "name": "stdout",
     "output_type": "stream",
     "text": [
      "in loop 1 1\n",
      "in loop 2 4\n",
      "in loop 3 9\n",
      "in loop 4 16\n",
      "in loop 5 25\n",
      "in loop 6 36\n",
      "in loop 7 49\n",
      "in loop 8 64\n",
      "in loop 9 81\n",
      "in loop 10 100\n",
      "in loop 11 121\n",
      "in loop 12 144\n",
      "in loop 13 169\n",
      "in loop 14 196\n",
      "in loop 15 225\n",
      "in loop 16 256\n",
      "in loop 17 289\n",
      "in loop 18 324\n",
      "in loop 19 361\n",
      "in loop 20 400\n",
      "in loop 21 441\n",
      "in loop 22 484\n",
      "in loop 23 529\n",
      "in loop 24 576\n",
      "in loop 25 625\n",
      "in loop 26 676\n",
      "in loop 27 729\n",
      "in loop 28 784\n",
      "in loop 29 841\n",
      "in loop 30 900\n",
      "in loop 31 961\n",
      "I am out of loop\n",
      "32\n"
     ]
    }
   ],
   "source": [
    "# find a smallest number, square of the number is great than 1000\n",
    "n = 1\n",
    "while n**2 <= 1000:\n",
    "    print(\"in loop\", n, n**2)\n",
    "    n += 1  # n = n + 1\n",
    "print(\"I am out of loop\")\n",
    "print(n)"
   ]
  },
  {
   "cell_type": "code",
   "execution_count": 61,
   "metadata": {},
   "outputs": [
    {
     "data": {
      "text/plain": [
       "1024"
      ]
     },
     "execution_count": 61,
     "metadata": {},
     "output_type": "execute_result"
    }
   ],
   "source": [
    "32 ** 2"
   ]
  },
  {
   "cell_type": "markdown",
   "metadata": {},
   "source": [
    "## Math fun"
   ]
  },
  {
   "cell_type": "code",
   "execution_count": 38,
   "metadata": {},
   "outputs": [],
   "source": [
    "# ## Fabonacci series. \n",
    "# fabonacci \n",
    "# # input:  0 1 2 3 4 5\n",
    "\n",
    "# # output: 1 1 2 3 5 8 13 ...\n",
    "\n",
    "# print out nth fabonacci number"
   ]
  },
  {
   "cell_type": "code",
   "execution_count": null,
   "metadata": {},
   "outputs": [],
   "source": [
    "# a b c\n",
    "# 0 1 1 2 3 5\n",
    "# > a b ?\n",
    "#     a b \n",
    "# every loop print b"
   ]
  },
  {
   "cell_type": "code",
   "execution_count": 37,
   "metadata": {},
   "outputs": [
    {
     "name": "stdout",
     "output_type": "stream",
     "text": [
      "please input a number: 5\n",
      "8\n"
     ]
    }
   ],
   "source": [
    "n = int(input(\"please input a number: \"))\n",
    "a = 0\n",
    "b = 1\n",
    "for i in range(0, n):\n",
    "    c = a + b\n",
    "    a = b\n",
    "    b = c\n",
    "print(b)"
   ]
  },
  {
   "cell_type": "code",
   "execution_count": null,
   "metadata": {},
   "outputs": [],
   "source": []
  },
  {
   "cell_type": "code",
   "execution_count": 23,
   "metadata": {},
   "outputs": [],
   "source": [
    "# common mistakes\n",
    "# override the values\n",
    "# not pay attention to the loop start and end"
   ]
  },
  {
   "cell_type": "code",
   "execution_count": 40,
   "metadata": {},
   "outputs": [],
   "source": [
    "a = 1 \n",
    "# a is a box , can have a value"
   ]
  },
  {
   "cell_type": "code",
   "execution_count": 42,
   "metadata": {},
   "outputs": [
    {
     "name": "stdout",
     "output_type": "stream",
     "text": [
      "please input a number: 5\n",
      "16\n"
     ]
    }
   ],
   "source": [
    "# why this is wrong !!!\n",
    "n = int(input(\"please input a number: \"))\n",
    "a = 0\n",
    "b = 1\n",
    "for i in range(0, n):\n",
    "    c = a + b\n",
    "    b = c  # b lost its value.\n",
    "    a = b\n",
    "print(b)"
   ]
  },
  {
   "cell_type": "code",
   "execution_count": null,
   "metadata": {},
   "outputs": [],
   "source": [
    "# a b c\n",
    "# 0 1 1 2 3 5\n",
    "# > a b ?\n",
    "#     a b \n",
    "# every loop print b"
   ]
  },
  {
   "cell_type": "code",
   "execution_count": null,
   "metadata": {},
   "outputs": [],
   "source": []
  },
  {
   "cell_type": "markdown",
   "metadata": {},
   "source": [
    "## Summary\n",
    "\n",
    "* understand the difference between break and continue\n",
    "* make sure you have an end condition within while loop\n",
    "* choose between for and while\n",
    "\n",
    "\n",
    "home work chapter 4 in repl.it"
   ]
  },
  {
   "cell_type": "code",
   "execution_count": null,
   "metadata": {},
   "outputs": [],
   "source": []
  },
  {
   "cell_type": "code",
   "execution_count": null,
   "metadata": {},
   "outputs": [],
   "source": []
  }
 ],
 "metadata": {
  "kernelspec": {
   "display_name": "Python 3",
   "language": "python",
   "name": "python3"
  },
  "language_info": {
   "codemirror_mode": {
    "name": "ipython",
    "version": 3
   },
   "file_extension": ".py",
   "mimetype": "text/x-python",
   "name": "python",
   "nbconvert_exporter": "python",
   "pygments_lexer": "ipython3",
   "version": "3.8.5"
  }
 },
 "nbformat": 4,
 "nbformat_minor": 2
}
