{
 "cells": [
  {
   "cell_type": "markdown",
   "metadata": {},
   "source": [
    "<h1 id=\"tocheading\">Contents</h1>\n",
    "<div id=\"toc\"></div>"
   ]
  },
  {
   "cell_type": "code",
   "execution_count": 1,
   "metadata": {},
   "outputs": [
    {
     "data": {
      "application/javascript": [
       "$.getScript('https://kmahelona.github.io/ipython_notebook_goodies/ipython_notebook_toc.js')\n"
      ],
      "text/plain": [
       "<IPython.core.display.Javascript object>"
      ]
     },
     "metadata": {},
     "output_type": "display_data"
    }
   ],
   "source": [
    "%%javascript\n",
    "$.getScript('https://kmahelona.github.io/ipython_notebook_goodies/ipython_notebook_toc.js')"
   ]
  },
  {
   "cell_type": "code",
   "execution_count": 2,
   "metadata": {},
   "outputs": [],
   "source": [
    "from IPython.display import Image"
   ]
  },
  {
   "cell_type": "markdown",
   "metadata": {},
   "source": [
    "## Dictionary\n",
    "\n",
    "\n",
    "    collection of pairs of key and value\n",
    "    useful in retrieve values by keys"
   ]
  },
  {
   "cell_type": "code",
   "execution_count": 3,
   "metadata": {},
   "outputs": [
    {
     "data": {
      "image/jpeg": "[encoded data removed]",
      "text/plain": [
       "<IPython.core.display.Image object>"
      ]
     },
     "execution_count": 3,
     "metadata": {},
     "output_type": "execute_result"
    }
   ],
   "source": [
    "Image(\"dict.jpeg\")"
   ]
  },
  {
   "cell_type": "markdown",
   "metadata": {},
   "source": [
    "### build a dict\n",
    "\n",
    "\n",
    "    - construct dict\n",
    "      - dict1 = { key: value }\n",
    "      - dict2 = dict(key=value)\n",
    "      \n",
    "    - convert from other types with dict()\n",
    "      - dict3 = dict([(1, 2), (3,4)])"
   ]
  },
  {
   "cell_type": "code",
   "execution_count": 4,
   "metadata": {},
   "outputs": [
    {
     "data": {
      "text/plain": [
       "{'NC': 'North Carolina', 'VA': 'Virgina'}"
      ]
     },
     "execution_count": 4,
     "metadata": {},
     "output_type": "execute_result"
    }
   ],
   "source": [
    "# key, value can be any type\n",
    "d = {\"NC\": \"North Carolina\", \"VA\": \"Virgina\"}\n",
    "d"
   ]
  },
  {
   "cell_type": "code",
   "execution_count": 5,
   "metadata": {},
   "outputs": [
    {
     "data": {
      "text/plain": [
       "{1: 'a'}"
      ]
     },
     "execution_count": 5,
     "metadata": {},
     "output_type": "execute_result"
    }
   ],
   "source": [
    "e = {1:\"a\"}\n",
    "e"
   ]
  },
  {
   "cell_type": "code",
   "execution_count": 6,
   "metadata": {},
   "outputs": [
    {
     "data": {
      "text/plain": [
       "{'NC': 'North Carolina', 'VA': 'Virginia'}"
      ]
     },
     "execution_count": 6,
     "metadata": {},
     "output_type": "execute_result"
    }
   ],
   "source": [
    "# note the key is not quoted !!\n",
    "d = dict(NC='North Carolina', VA='Virginia')\n",
    "d"
   ]
  },
  {
   "cell_type": "code",
   "execution_count": 7,
   "metadata": {},
   "outputs": [
    {
     "data": {
      "text/plain": [
       "{1: 2, 3: 4}"
      ]
     },
     "execution_count": 7,
     "metadata": {},
     "output_type": "execute_result"
    }
   ],
   "source": [
    "dict([(1, 2), (3,4)])  # build a dict from list of tuples"
   ]
  },
  {
   "cell_type": "code",
   "execution_count": 9,
   "metadata": {},
   "outputs": [
    {
     "name": "stdout",
     "output_type": "stream",
     "text": [
      "1 3\n",
      "NC NorthCarolina\n",
      "\n",
      "{'1': '3', 'NC': 'NorthCarolina'}\n"
     ]
    }
   ],
   "source": [
    "# dynamically create dict from input\n",
    "\n",
    "d = {}\n",
    "while True:\n",
    "    pair = input().split()\n",
    "    if not pair:\n",
    "        break\n",
    "    \n",
    "    key, value = pair\n",
    "    d.update({key: value})\n",
    "print(d)"
   ]
  },
  {
   "cell_type": "code",
   "execution_count": 10,
   "metadata": {},
   "outputs": [
    {
     "name": "stdout",
     "output_type": "stream",
     "text": [
      "{'1': '3', 'NC': 'NorthCarolina'}\n"
     ]
    }
   ],
   "source": [
    "print(d)"
   ]
  },
  {
   "cell_type": "markdown",
   "metadata": {},
   "source": [
    "### comparison ( dict, set, list )\n",
    "\n",
    "\n",
    "    dict vs set: You can think of dict as an extension of set. keys must be unique. \n",
    "    dict vs list: items in dict doesn't have order !!!\n",
    "    "
   ]
  },
  {
   "cell_type": "markdown",
   "metadata": {},
   "source": [
    "### dict methods\n",
    "\n",
    "\n",
    "    len: size of the set\n",
    "    in: test membership - most useful and more efficient than list\n",
    "    pop: remove a pair based on search key\n",
    "    clear: remove all elements\n",
    "    update: Update with the new key-value pair, can be overwrite\n",
    "    get: get value by key\n",
    "    popitem:  removes the last key-value pair added from d and returns it as a tuple\n"
   ]
  },
  {
   "cell_type": "code",
   "execution_count": 11,
   "metadata": {},
   "outputs": [
    {
     "data": {
      "text/plain": [
       "{'1': '3', 'NC': 'NorthCarolina'}"
      ]
     },
     "execution_count": 11,
     "metadata": {},
     "output_type": "execute_result"
    }
   ],
   "source": [
    "d"
   ]
  },
  {
   "cell_type": "code",
   "execution_count": 12,
   "metadata": {},
   "outputs": [
    {
     "data": {
      "text/plain": [
       "2"
      ]
     },
     "execution_count": 12,
     "metadata": {},
     "output_type": "execute_result"
    }
   ],
   "source": [
    "len(d)"
   ]
  },
  {
   "cell_type": "code",
   "execution_count": 13,
   "metadata": {},
   "outputs": [
    {
     "data": {
      "text/plain": [
       "True"
      ]
     },
     "execution_count": 13,
     "metadata": {},
     "output_type": "execute_result"
    }
   ],
   "source": [
    "'NC' in d"
   ]
  },
  {
   "cell_type": "code",
   "execution_count": 14,
   "metadata": {},
   "outputs": [
    {
     "data": {
      "text/plain": [
       "False"
      ]
     },
     "execution_count": 14,
     "metadata": {},
     "output_type": "execute_result"
    }
   ],
   "source": [
    "'3' in d  # '3' is value, not key"
   ]
  },
  {
   "cell_type": "code",
   "execution_count": 15,
   "metadata": {},
   "outputs": [
    {
     "data": {
      "text/plain": [
       "False"
      ]
     },
     "execution_count": 15,
     "metadata": {},
     "output_type": "execute_result"
    }
   ],
   "source": [
    "'FL' in d"
   ]
  },
  {
   "cell_type": "code",
   "execution_count": 16,
   "metadata": {},
   "outputs": [
    {
     "data": {
      "text/plain": [
       "{'1': '3', 'NC': 'NorthCarolina', 'FL': 'florida'}"
      ]
     },
     "execution_count": 16,
     "metadata": {},
     "output_type": "execute_result"
    }
   ],
   "source": [
    "d.update({'FL': 'florida'})\n",
    "d"
   ]
  },
  {
   "cell_type": "code",
   "execution_count": 17,
   "metadata": {},
   "outputs": [
    {
     "data": {
      "text/plain": [
       "{'1': '3', 'NC': 'Not Care', 'FL': 'florida'}"
      ]
     },
     "execution_count": 17,
     "metadata": {},
     "output_type": "execute_result"
    }
   ],
   "source": [
    "# update the mapping. update the key with a new value\n",
    "d.update({'NC': \"Not Care\"})\n",
    "d"
   ]
  },
  {
   "cell_type": "code",
   "execution_count": 18,
   "metadata": {},
   "outputs": [
    {
     "data": {
      "text/plain": [
       "'Not Care'"
      ]
     },
     "execution_count": 18,
     "metadata": {},
     "output_type": "execute_result"
    }
   ],
   "source": [
    "d.pop(\"NC\")"
   ]
  },
  {
   "cell_type": "code",
   "execution_count": 19,
   "metadata": {},
   "outputs": [
    {
     "data": {
      "text/plain": [
       "{'1': '3', 'FL': 'florida'}"
      ]
     },
     "execution_count": 19,
     "metadata": {},
     "output_type": "execute_result"
    }
   ],
   "source": [
    "d"
   ]
  },
  {
   "cell_type": "code",
   "execution_count": 20,
   "metadata": {},
   "outputs": [
    {
     "data": {
      "text/plain": [
       "'florida'"
      ]
     },
     "execution_count": 20,
     "metadata": {},
     "output_type": "execute_result"
    }
   ],
   "source": [
    "d['FL']"
   ]
  },
  {
   "cell_type": "code",
   "execution_count": 21,
   "metadata": {},
   "outputs": [
    {
     "data": {
      "text/plain": [
       "{'1': '3', 'FL': 'florida'}"
      ]
     },
     "execution_count": 21,
     "metadata": {},
     "output_type": "execute_result"
    }
   ],
   "source": [
    "d"
   ]
  },
  {
   "cell_type": "code",
   "execution_count": 22,
   "metadata": {},
   "outputs": [
    {
     "data": {
      "text/plain": [
       "'florida'"
      ]
     },
     "execution_count": 22,
     "metadata": {},
     "output_type": "execute_result"
    }
   ],
   "source": [
    "d.get('FL') # safe way to get the value of the key !!!"
   ]
  },
  {
   "cell_type": "code",
   "execution_count": 23,
   "metadata": {},
   "outputs": [
    {
     "ename": "KeyError",
     "evalue": "'CA'",
     "output_type": "error",
     "traceback": [
      "\u001b[0;31m---------------------------------------------------------------------------\u001b[0m",
      "\u001b[0;31mKeyError\u001b[0m                                  Traceback (most recent call last)",
      "\u001b[0;32m<ipython-input-23-efe58232a10e>\u001b[0m in \u001b[0;36m<module>\u001b[0;34m\u001b[0m\n\u001b[0;32m----> 1\u001b[0;31m \u001b[0md\u001b[0m\u001b[0;34m[\u001b[0m\u001b[0;34m'CA'\u001b[0m\u001b[0;34m]\u001b[0m\u001b[0;34m\u001b[0m\u001b[0;34m\u001b[0m\u001b[0m\n\u001b[0m",
      "\u001b[0;31mKeyError\u001b[0m: 'CA'"
     ]
    }
   ],
   "source": [
    "d['CA']"
   ]
  },
  {
   "cell_type": "code",
   "execution_count": 24,
   "metadata": {},
   "outputs": [],
   "source": [
    "# get value, safe way is to use get"
   ]
  },
  {
   "cell_type": "code",
   "execution_count": 25,
   "metadata": {},
   "outputs": [],
   "source": [
    "d.get('CA')"
   ]
  },
  {
   "cell_type": "code",
   "execution_count": 26,
   "metadata": {},
   "outputs": [
    {
     "name": "stdout",
     "output_type": "stream",
     "text": [
      "Help on built-in function get:\n",
      "\n",
      "get(key, default=None, /) method of builtins.dict instance\n",
      "    Return the value for key if key is in the dictionary, else default.\n",
      "\n"
     ]
    }
   ],
   "source": [
    "help(d.get)"
   ]
  },
  {
   "cell_type": "code",
   "execution_count": 27,
   "metadata": {},
   "outputs": [
    {
     "data": {
      "text/plain": [
       "'not set'"
      ]
     },
     "execution_count": 27,
     "metadata": {},
     "output_type": "execute_result"
    }
   ],
   "source": [
    "d.get('CA', 'not set')"
   ]
  },
  {
   "cell_type": "code",
   "execution_count": 28,
   "metadata": {},
   "outputs": [
    {
     "data": {
      "text/plain": [
       "('FL', 'florida')"
      ]
     },
     "execution_count": 28,
     "metadata": {},
     "output_type": "execute_result"
    }
   ],
   "source": [
    "d.popitem() # random pair, useful in enumerate a dict"
   ]
  },
  {
   "cell_type": "code",
   "execution_count": 29,
   "metadata": {},
   "outputs": [],
   "source": [
    "d.clear()"
   ]
  },
  {
   "cell_type": "code",
   "execution_count": 30,
   "metadata": {},
   "outputs": [
    {
     "name": "stdout",
     "output_type": "stream",
     "text": [
      "Help on built-in function clear:\n",
      "\n",
      "clear(...) method of builtins.dict instance\n",
      "    D.clear() -> None.  Remove all items from D.\n",
      "\n"
     ]
    }
   ],
   "source": [
    "help(d.clear)"
   ]
  },
  {
   "cell_type": "markdown",
   "metadata": {},
   "source": [
    "### How to loop through a dict"
   ]
  },
  {
   "cell_type": "code",
   "execution_count": 31,
   "metadata": {},
   "outputs": [
    {
     "name": "stdout",
     "output_type": "stream",
     "text": [
      "NC North Carolina\n",
      "VA Virginia\n",
      "FL florida\n"
     ]
    }
   ],
   "source": [
    "d = {'NC': 'North Carolina', 'VA': 'Virginia', 'FL': 'florida'}\n",
    "for k, v in d.items():\n",
    "    print(k, v)"
   ]
  },
  {
   "cell_type": "code",
   "execution_count": 32,
   "metadata": {},
   "outputs": [
    {
     "data": {
      "text/plain": [
       "dict_keys(['NC', 'VA', 'FL'])"
      ]
     },
     "execution_count": 32,
     "metadata": {},
     "output_type": "execute_result"
    }
   ],
   "source": [
    "d.keys()"
   ]
  },
  {
   "cell_type": "code",
   "execution_count": 33,
   "metadata": {},
   "outputs": [
    {
     "data": {
      "text/plain": [
       "dict_values(['North Carolina', 'Virginia', 'florida'])"
      ]
     },
     "execution_count": 33,
     "metadata": {},
     "output_type": "execute_result"
    }
   ],
   "source": [
    "d.values()"
   ]
  },
  {
   "cell_type": "code",
   "execution_count": 34,
   "metadata": {},
   "outputs": [
    {
     "data": {
      "text/plain": [
       "dict_items([('NC', 'North Carolina'), ('VA', 'Virginia'), ('FL', 'florida')])"
      ]
     },
     "execution_count": 34,
     "metadata": {},
     "output_type": "execute_result"
    }
   ],
   "source": [
    "d.items()"
   ]
  },
  {
   "cell_type": "code",
   "execution_count": 35,
   "metadata": {},
   "outputs": [
    {
     "data": {
      "text/plain": [
       "{'a': (1, 2, 3), 'b': (2, 3)}"
      ]
     },
     "execution_count": 35,
     "metadata": {},
     "output_type": "execute_result"
    }
   ],
   "source": [
    "d={'a': (1, 2 ,3), 'b': (2,3)}\n",
    "d"
   ]
  },
  {
   "cell_type": "markdown",
   "metadata": {},
   "source": [
    "### example"
   ]
  },
  {
   "cell_type": "code",
   "execution_count": 36,
   "metadata": {},
   "outputs": [
    {
     "name": "stdout",
     "output_type": "stream",
     "text": [
      "zhang xi\n",
      "zhang wen\n",
      "zhou xi\n",
      "zhou wen\n",
      "wang xi\n",
      "end\n",
      "{'zhang xi': 1, 'zhang wen': 1, 'zhou xi': 1, 'zhou wen': 1, 'wang xi': 1}\n"
     ]
    }
   ],
   "source": [
    "# example.\n",
    "# count students last name frequency\n",
    "# Zhang -> \n",
    "# zhang xxx\n",
    "# zhou \n",
    "# Wang\n",
    "\n",
    "d = {}\n",
    "while True:\n",
    "    name = input().lower()\n",
    "    if name == 'end':\n",
    "        break\n",
    "\n",
    "    # dict.update({key: value}), avoid use if/else\n",
    "    d.update({name: d.get(name, 0) + 1})\n",
    "\n",
    "print(d)\n"
   ]
  },
  {
   "cell_type": "markdown",
   "metadata": {},
   "source": [
    "### Problem Solving with Dict"
   ]
  },
  {
   "cell_type": "raw",
   "metadata": {},
   "source": [
    "# Statement\n",
    "\n",
    "The text is given in a single line. For each word of the text count the number of its occurrences before it.\n",
    "\n",
    "# Example input\n",
    "\n",
    "```\n",
    "one two one two three two four three\n",
    "```\n",
    "\n",
    "# Example output\n",
    "\n",
    "```\n",
    "0 0 1 1 0 2 0 1\n",
    "```\n"
   ]
  },
  {
   "cell_type": "code",
   "execution_count": 38,
   "metadata": {},
   "outputs": [
    {
     "name": "stdout",
     "output_type": "stream",
     "text": [
      "one two one two three two four three\n",
      "0 0 1 1 0 2 0 1 "
     ]
    }
   ],
   "source": [
    "# please ensure you understand each line...\n",
    "line = input()\n",
    "# initialize the word counter\n",
    "word_counts = {}\n",
    "for word in line.split():\n",
    "    # get the current word count, default to 0\n",
    "    count = word_counts.get(word, 0)\n",
    "    print(count, end=' ')\n",
    "    # increment 1\n",
    "    word_counts.update({word: count + 1})"
   ]
  },
  {
   "cell_type": "markdown",
   "metadata": {},
   "source": [
    "## Math Fun\n",
    "\n",
    "    The beauty of numbers"
   ]
  },
  {
   "cell_type": "code",
   "execution_count": 42,
   "metadata": {},
   "outputs": [],
   "source": [
    "def numbers(n):\n",
    "    j = 0\n",
    "    for i in range(n):\n",
    "        j = j*10+i+1\n",
    "        yield j"
   ]
  },
  {
   "cell_type": "code",
   "execution_count": 51,
   "metadata": {},
   "outputs": [
    {
     "data": {
      "text/plain": [
       "[1, 12, 123, 1234, 12345, 123456, 1234567, 12345678, 123456789]"
      ]
     },
     "execution_count": 51,
     "metadata": {},
     "output_type": "execute_result"
    }
   ],
   "source": [
    "a = list(numbers(9))\n",
    "a"
   ]
  },
  {
   "cell_type": "code",
   "execution_count": 57,
   "metadata": {},
   "outputs": [
    {
     "name": "stdout",
     "output_type": "stream",
     "text": [
      "        1 * 8 + 1 = 9\n",
      "       12 * 8 + 2 = 98\n",
      "      123 * 8 + 3 = 987\n",
      "     1234 * 8 + 4 = 9876\n",
      "    12345 * 8 + 5 = 98765\n",
      "   123456 * 8 + 6 = 987654\n",
      "  1234567 * 8 + 7 = 9876543\n",
      " 12345678 * 8 + 8 = 98765432\n",
      "123456789 * 8 + 9 = 987654321\n"
     ]
    }
   ],
   "source": [
    "for i in range(9):\n",
    "    print(f\"{a[i]:9} * 8 + {i+1} = {a[i]* 8 + i+1}\")"
   ]
  },
  {
   "cell_type": "code",
   "execution_count": 59,
   "metadata": {},
   "outputs": [
    {
     "name": "stdout",
     "output_type": "stream",
     "text": [
      "        1 * 9 +  2 = 11\n",
      "       12 * 9 +  3 = 111\n",
      "      123 * 9 +  4 = 1111\n",
      "     1234 * 9 +  5 = 11111\n",
      "    12345 * 9 +  6 = 111111\n",
      "   123456 * 9 +  7 = 1111111\n",
      "  1234567 * 9 +  8 = 11111111\n",
      " 12345678 * 9 +  9 = 111111111\n",
      "123456789 * 9 + 10 = 1111111111\n"
     ]
    }
   ],
   "source": [
    "for i in range(9):\n",
    "    print(f\"{a[i]:9} * 9 + {i+2:2} = {a[i]* 9 + i+2}\")"
   ]
  },
  {
   "cell_type": "code",
   "execution_count": 62,
   "metadata": {},
   "outputs": [],
   "source": [
    "def numbers():\n",
    "    j = 0\n",
    "    for i in range(9, 1, -1):\n",
    "        j = j*10+i\n",
    "        yield j"
   ]
  },
  {
   "cell_type": "code",
   "execution_count": 64,
   "metadata": {},
   "outputs": [
    {
     "data": {
      "text/plain": [
       "[9, 98, 987, 9876, 98765, 987654, 9876543, 98765432]"
      ]
     },
     "execution_count": 64,
     "metadata": {},
     "output_type": "execute_result"
    }
   ],
   "source": [
    "b = list(numbers())\n",
    "b"
   ]
  },
  {
   "cell_type": "code",
   "execution_count": 68,
   "metadata": {},
   "outputs": [
    {
     "name": "stdout",
     "output_type": "stream",
     "text": [
      "        9 * 9 + 7 = 88\n",
      "       98 * 9 + 6 = 888\n",
      "      987 * 9 + 5 = 8888\n",
      "     9876 * 9 + 4 = 88888\n",
      "    98765 * 9 + 3 = 888888\n",
      "   987654 * 9 + 2 = 8888888\n",
      "  9876543 * 9 + 1 = 88888888\n",
      " 98765432 * 9 + 0 = 888888888\n"
     ]
    }
   ],
   "source": [
    "for i in range(8):\n",
    "    print(f\"{b[i]:9} * 9 + {7-i} = {b[i] * 9 + 7 - i}\")"
   ]
  },
  {
   "cell_type": "code",
   "execution_count": 69,
   "metadata": {},
   "outputs": [],
   "source": [
    "def numbers():\n",
    "    j = 0\n",
    "    for i in range(9):\n",
    "        j = j*10 + 1\n",
    "        yield j"
   ]
  },
  {
   "cell_type": "code",
   "execution_count": 72,
   "metadata": {},
   "outputs": [
    {
     "data": {
      "text/plain": [
       "[1, 11, 111, 1111, 11111, 111111, 1111111, 11111111, 111111111]"
      ]
     },
     "execution_count": 72,
     "metadata": {},
     "output_type": "execute_result"
    }
   ],
   "source": [
    "c = list(numbers())\n",
    "c"
   ]
  },
  {
   "cell_type": "code",
   "execution_count": 81,
   "metadata": {},
   "outputs": [
    {
     "name": "stdout",
     "output_type": "stream",
     "text": [
      "         1 * 1 = 1\n",
      "        11 * 11 = 121\n",
      "       111 * 111 = 12321\n",
      "      1111 * 1111 = 1234321\n",
      "     11111 * 11111 = 123454321\n",
      "    111111 * 111111 = 12345654321\n",
      "   1111111 * 1111111 = 1234567654321\n",
      "  11111111 * 11111111 = 123456787654321\n",
      " 111111111 * 111111111 = 12345678987654321\n"
     ]
    }
   ],
   "source": [
    "for i in range(9):\n",
    "    print(f\"{c[i]:10} * {c[i]} = {c[i]*c[i]}\")"
   ]
  },
  {
   "cell_type": "markdown",
   "metadata": {},
   "source": [
    "## Homework\n",
    "\n",
    "ch8: dict\n"
   ]
  },
  {
   "cell_type": "code",
   "execution_count": null,
   "metadata": {},
   "outputs": [],
   "source": []
  }
 ],
 "metadata": {
  "kernelspec": {
   "display_name": "Python 3",
   "language": "python",
   "name": "python3"
  },
  "language_info": {
   "codemirror_mode": {
    "name": "ipython",
    "version": 3
   },
   "file_extension": ".py",
   "mimetype": "text/x-python",
   "name": "python",
   "nbconvert_exporter": "python",
   "pygments_lexer": "ipython3",
   "version": "3.8.5"
  }
 },
 "nbformat": 4,
 "nbformat_minor": 2
}
